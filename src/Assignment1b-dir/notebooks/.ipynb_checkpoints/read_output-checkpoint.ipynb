{
 "cells": [
  {
   "cell_type": "code",
   "execution_count": 1,
   "metadata": {},
   "outputs": [],
   "source": [
    "import pandas as pd\n",
    "import seaborn as sns\n",
    "import numpy as np\n",
    "import matplotlib.pyplot as plt\n",
    "import re\n"
   ]
  },
  {
   "cell_type": "code",
   "execution_count": 28,
   "metadata": {},
   "outputs": [],
   "source": [
    "column_names = ['no_threads','wall_time','elapsed_time', 'comparisons','scheduling']\n",
    "results = pd.DataFrame(columns=column_names)"
   ]
  },
  {
   "cell_type": "code",
   "execution_count": 29,
   "metadata": {},
   "outputs": [
    {
     "name": "stdout",
     "output_type": "stream",
     "text": [
      "['Start', 'Searching', 'Parallel', 'with', 'Scheduling=static\\n']\n",
      "['Start', 'Searching', 'Parallel', 'with', 'Scheduling=dynamic\\n']\n",
      "['Start', 'Searching', 'Parallel', 'with', 'Scheduling=guided\\n']\n",
      "['Start', 'Searching', 'Parallel', 'with', 'Scheduling=auto\\n']\n"
     ]
    }
   ],
   "source": [
    "# read results of test0\n",
    "count = 0\n",
    "sequential_time = 0\n",
    "scheduling = ''\n",
    "with open('../outputs/somp_01.out', 'r') as output:\n",
    "    line=output.readline()\n",
    "    while line != '':\n",
    "        line = output.readline()\n",
    "        #find start of test result\n",
    "        if (line.find('Starting searching sequential') >= 0):\n",
    "            for i in range(0,11):\n",
    "                line = output.readline()\n",
    "                \n",
    "            sequential_time = float(re.findall('\\d+\\.\\d+', line)[0])\n",
    "        \n",
    "\n",
    "        if (line.find('Scheduling') >= 0):\n",
    "            s = line.split(sep=' ')\n",
    "            print(s)\n",
    "            scheduling = s[len(s)-1].split('=')[1].split('\\n')[0]\n",
    "            \n",
    "        if (line.find('Running') >= 0):\n",
    "            threads = int(re.findall('\\d+',line)[1])\n",
    "            for i in range(1,5):\n",
    "                line = output.readline()\n",
    "            comparisons = int(re.findall('\\d+', line)[0])\n",
    "            \n",
    "            for i in range(1,3):\n",
    "                line = output.readline()\n",
    "            \n",
    "            wall_time = int(re.findall('\\d+', line)[1])\n",
    "            line = output.readline()\n",
    "            cpu_time = float(re.findall('\\d+\\.\\d+', line)[0])\n",
    "            line = output.readline()\n",
    "            \n",
    "            \n",
    "            new_row = {'no_threads' : threads,\n",
    "                       'wall_time' : wall_time, \n",
    "                       'elapsed_time' : cpu_time,\n",
    "                       'comparisons' : comparisons,\n",
    "                       'scheduling' : scheduling}\n",
    "            results = results.append(new_row, ignore_index=True)\n",
    "            "
   ]
  },
  {
   "cell_type": "code",
   "execution_count": 30,
   "metadata": {},
   "outputs": [
    {
     "data": {
      "text/html": [
       "<div>\n",
       "<style scoped>\n",
       "    .dataframe tbody tr th:only-of-type {\n",
       "        vertical-align: middle;\n",
       "    }\n",
       "\n",
       "    .dataframe tbody tr th {\n",
       "        vertical-align: top;\n",
       "    }\n",
       "\n",
       "    .dataframe thead th {\n",
       "        text-align: right;\n",
       "    }\n",
       "</style>\n",
       "<table border=\"1\" class=\"dataframe\">\n",
       "  <thead>\n",
       "    <tr style=\"text-align: right;\">\n",
       "      <th></th>\n",
       "      <th>no_threads</th>\n",
       "      <th>wall_time</th>\n",
       "      <th>elapsed_time</th>\n",
       "      <th>comparisons</th>\n",
       "      <th>scheduling</th>\n",
       "      <th>parallel_speedup</th>\n",
       "      <th>parallel_efficiency</th>\n",
       "    </tr>\n",
       "  </thead>\n",
       "  <tbody>\n",
       "    <tr>\n",
       "      <th>0</th>\n",
       "      <td>1</td>\n",
       "      <td>10</td>\n",
       "      <td>10.340509</td>\n",
       "      <td>3996002000</td>\n",
       "      <td>static</td>\n",
       "      <td>1.134036</td>\n",
       "      <td>1.13404</td>\n",
       "    </tr>\n",
       "    <tr>\n",
       "      <th>1</th>\n",
       "      <td>2</td>\n",
       "      <td>5</td>\n",
       "      <td>5.209357</td>\n",
       "      <td>3996002000</td>\n",
       "      <td>static</td>\n",
       "      <td>2.251048</td>\n",
       "      <td>1.12552</td>\n",
       "    </tr>\n",
       "    <tr>\n",
       "      <th>2</th>\n",
       "      <td>4</td>\n",
       "      <td>2</td>\n",
       "      <td>2.875149</td>\n",
       "      <td>3996002000</td>\n",
       "      <td>static</td>\n",
       "      <td>4.078576</td>\n",
       "      <td>1.01964</td>\n",
       "    </tr>\n",
       "    <tr>\n",
       "      <th>3</th>\n",
       "      <td>8</td>\n",
       "      <td>1</td>\n",
       "      <td>1.482057</td>\n",
       "      <td>3996002000</td>\n",
       "      <td>static</td>\n",
       "      <td>7.912325</td>\n",
       "      <td>0.989041</td>\n",
       "    </tr>\n",
       "    <tr>\n",
       "      <th>4</th>\n",
       "      <td>16</td>\n",
       "      <td>1</td>\n",
       "      <td>1.567389</td>\n",
       "      <td>3996002000</td>\n",
       "      <td>static</td>\n",
       "      <td>7.481561</td>\n",
       "      <td>0.467598</td>\n",
       "    </tr>\n",
       "  </tbody>\n",
       "</table>\n",
       "</div>"
      ],
      "text/plain": [
       "  no_threads wall_time  elapsed_time comparisons scheduling  parallel_speedup  \\\n",
       "0          1        10     10.340509  3996002000     static          1.134036   \n",
       "1          2         5      5.209357  3996002000     static          2.251048   \n",
       "2          4         2      2.875149  3996002000     static          4.078576   \n",
       "3          8         1      1.482057  3996002000     static          7.912325   \n",
       "4         16         1      1.567389  3996002000     static          7.481561   \n",
       "\n",
       "  parallel_efficiency  \n",
       "0             1.13404  \n",
       "1             1.12552  \n",
       "2             1.01964  \n",
       "3            0.989041  \n",
       "4            0.467598  "
      ]
     },
     "execution_count": 30,
     "metadata": {},
     "output_type": "execute_result"
    }
   ],
   "source": [
    "sequential_time\n",
    "results['parallel_speedup'] = sequential_time / results['elapsed_time']\n",
    "results['parallel_efficiency'] = results['parallel_speedup'] / results['no_threads']\n",
    "results.head()"
   ]
  },
  {
   "cell_type": "code",
   "execution_count": 31,
   "metadata": {},
   "outputs": [
    {
     "data": {
      "image/png": "[encoded data removed]",
      "text/plain": [
       "<Figure size 576x576 with 1 Axes>"
      ]
     },
     "metadata": {
      "needs_background": "light"
     },
     "output_type": "display_data"
    }
   ],
   "source": [
    "#x = 10 ** np.arange(2,10,2)\n",
    "f, ax = plt.subplots(figsize=(8,8))\n",
    "\n",
    "\n",
    "#ax.set_xticklabels(ss_output['product'].unique())\n",
    "#sns.scatterplot(x=ss_output['product'],y=ss_output['cpu_time'],hue=ss_output['optimization'])\n",
    "\n",
    "g = sns.scatterplot(x=results['no_threads'], y=results['parallel_speedup'], hue=results['scheduling'])\n",
    "g.set_xlabel('Number of Threads')\n",
    "g.set_ylabel('Parallel Speedup')\n",
    "g.set_title('Parallel Speedup of program for different Threads')\n",
    "ax.set_facecolor('white')\n",
    "plt.savefig('../img/speedup_threads_8.png')\n",
    "#ax.set(xscale='log')\n",
    "#ax.set_xticks([0.2,0.4,0.6,0.8,1.0])\n",
    "#ax.set_xticklabels(['10e+2','10e+4','10e+6','10e+8','10e+10'])"
   ]
  },
  {
   "cell_type": "code",
   "execution_count": 32,
   "metadata": {},
   "outputs": [
    {
     "data": {
      "image/png": "[encoded data removed]",
      "text/plain": [
       "<Figure size 576x576 with 1 Axes>"
      ]
     },
     "metadata": {
      "needs_background": "light"
     },
     "output_type": "display_data"
    }
   ],
   "source": [
    "f, ax = plt.subplots(figsize=(8,8))\n",
    "g = sns.scatterplot(x=results['no_threads'], \n",
    "                    y=results['parallel_efficiency'],\n",
    "                    hue=results['scheduling'])\n",
    "g.set_xlabel('Number of Threads')\n",
    "g.set_ylabel('Parallel Efficiency')\n",
    "g.set_title('Parallel Efficiency of program for different Threads')\n",
    "ax.set_facecolor('white')\n",
    "plt.savefig('../img/efficiency_threads_8.png')"
   ]
  },
  {
   "cell_type": "code",
   "execution_count": 8,
   "metadata": {},
   "outputs": [],
   "source": [
    "results.to_csv('../outputs/somp_0_results.csv',index=False,header=True)"
   ]
  },
  {
   "cell_type": "code",
   "execution_count": 2,
   "metadata": {},
   "outputs": [],
   "source": [
    "sequential_comparisons = 0\n",
    "sequential_cpu_time = 0\n",
    "\n",
    "somp_2 = pd.DataFrame(columns=['program','comparisons','elapsed_cpu_time'])\n",
    "\n",
    "with open('../outputs/somp_1.out', 'r') as output:\n",
    "    line=output.readline()\n",
    "    while line != '':\n",
    "        line=output.readline()\n",
    "        if (line.find('Starting test1 using searching_sequential') >= 0):\n",
    "            for i in range(1,9):\n",
    "                line=output.readline()\n",
    "            program = 'sequential'\n",
    "            sequential_comparisons = int(re.findall('\\d+',line)[0])\n",
    "            for i in range(1,4):\n",
    "                line=output.readline()\n",
    "            sequential_cpu_time = float(re.findall('\\d+\\.\\d+', line)[0])\n",
    "            somp_2 = somp_2.append({'program': program,\n",
    "                                   'comparisons' : sequential_comparisons,\n",
    "                                   'elapsed_cpu_time' : sequential_cpu_time},\n",
    "                                    ignore_index=True)\n",
    "        if (line.find('Searching test1 using searching_OMP_0') >= 0):\n",
    "            for i in range(1,14):\n",
    "                line=output.readline()\n",
    "            program = 'OMP_0'\n",
    "            comparisons = int(re.findall('\\d+',line)[0])\n",
    "            for i in range(1,4):\n",
    "                line=output.readline()\n",
    "            cpu_time = float(re.findall('\\d+\\.\\d+', line)[0])\n",
    "            somp_2 = somp_2.append({'program': program,\n",
    "                       'comparisons' : comparisons,\n",
    "                       'elapsed_cpu_time' : cpu_time}, ignore_index=True)\n",
    "        if (line.find('Searching test1 using searching_OMP_1') >= 0):\n",
    "            for i in range(1,14):\n",
    "                line=output.readline()\n",
    "            program = 'OMP_1'\n",
    "            comparisons = int(re.findall('\\d+',line)[0])\n",
    "            for i in range(1,4):\n",
    "                line=output.readline()\n",
    "            cpu_time = float(re.findall('\\d+\\.\\d+', line)[0])\n",
    "            somp_2 = somp_2.append({'program': program,\n",
    "                       'comparisons' : comparisons,\n",
    "                       'elapsed_cpu_time' : cpu_time}, ignore_index=True)"
   ]
  },
  {
   "cell_type": "code",
   "execution_count": 3,
   "metadata": {},
   "outputs": [
    {
     "data": {
      "text/html": [
       "<div>\n",
       "<style scoped>\n",
       "    .dataframe tbody tr th:only-of-type {\n",
       "        vertical-align: middle;\n",
       "    }\n",
       "\n",
       "    .dataframe tbody tr th {\n",
       "        vertical-align: top;\n",
       "    }\n",
       "\n",
       "    .dataframe thead th {\n",
       "        text-align: right;\n",
       "    }\n",
       "</style>\n",
       "<table border=\"1\" class=\"dataframe\">\n",
       "  <thead>\n",
       "    <tr style=\"text-align: right;\">\n",
       "      <th></th>\n",
       "      <th>program</th>\n",
       "      <th>comparisons</th>\n",
       "      <th>elapsed_cpu_time</th>\n",
       "    </tr>\n",
       "  </thead>\n",
       "  <tbody>\n",
       "    <tr>\n",
       "      <th>0</th>\n",
       "      <td>sequential</td>\n",
       "      <td>1002000</td>\n",
       "      <td>0.002964</td>\n",
       "    </tr>\n",
       "    <tr>\n",
       "      <th>1</th>\n",
       "      <td>OMP_0</td>\n",
       "      <td>9998501500</td>\n",
       "      <td>13.197240</td>\n",
       "    </tr>\n",
       "    <tr>\n",
       "      <th>2</th>\n",
       "      <td>OMP_1</td>\n",
       "      <td>1997289</td>\n",
       "      <td>0.012555</td>\n",
       "    </tr>\n",
       "  </tbody>\n",
       "</table>\n",
       "</div>"
      ],
      "text/plain": [
       "      program comparisons  elapsed_cpu_time\n",
       "0  sequential     1002000          0.002964\n",
       "1       OMP_0  9998501500         13.197240\n",
       "2       OMP_1     1997289          0.012555"
      ]
     },
     "execution_count": 3,
     "metadata": {},
     "output_type": "execute_result"
    }
   ],
   "source": [
    "somp_2.head()"
   ]
  },
  {
   "cell_type": "code",
   "execution_count": 4,
   "metadata": {},
   "outputs": [
    {
     "data": {
      "image/png": "[encoded data removed]",
      "text/plain": [
       "<Figure size 432x288 with 1 Axes>"
      ]
     },
     "metadata": {
      "needs_background": "light"
     },
     "output_type": "display_data"
    }
   ],
   "source": [
    "\n",
    "comp_plot = sns.barplot(x=somp_2['program'],y=somp_2['comparisons'])"
   ]
  },
  {
   "cell_type": "code",
   "execution_count": 21,
   "metadata": {},
   "outputs": [
    {
     "data": {
      "text/plain": [
       "1002288.4"
      ]
     },
     "execution_count": 21,
     "metadata": {},
     "output_type": "execute_result"
    }
   ],
   "source": [
    "# compare inital runs\n",
    "initial = pd.DataFrame(columns=['comparisons','wall_time','elapsed_time'])\n",
    "with open('../outputs/somp1_1.out', 'r') as output:\n",
    "    line=output.readline()\n",
    "    while line != '':\n",
    "        line=output.readline()\n",
    "        if (line.find('using 2 threads') >= 0):\n",
    "            for i in range(0,4):\n",
    "                line=output.readline()\n",
    "            comparisons = int(re.findall('\\d+',line)[0])\n",
    "            for i in range(0,2):\n",
    "                line=output.readline()\n",
    "            wall_time = int(re.findall('\\d+',line)[0])\n",
    "            line=output.readline()\n",
    "            elapsed_time = float(re.findall('\\d+\\.\\d+', line)[0])\n",
    "            initial = initial.append({'comparisons':comparisons,\n",
    "                                     'wall_time':wall_time,\n",
    "                                     'elapsed_time':elapsed_time},\n",
    "                                    ignore_index=True)\n"
   ]
  },
  {
   "cell_type": "code",
   "execution_count": 24,
   "metadata": {},
   "outputs": [
    {
     "name": "stdout",
     "output_type": "stream",
     "text": [
      "Mean Comparisons = 1002288.4\n",
      "Mean Wall Time = 1.0\n",
      "Mean Elapsed Time = 0.43913112969999996\n"
     ]
    }
   ],
   "source": [
    "comp = initial['comparisons'].mean()\n",
    "wall = initial['wall_time'].mean()\n",
    "elap = initial['elapsed_time'].mean()\n",
    "print(f'Mean Comparisons = {comp}')\n",
    "print(f'Mean Wall Time = {wall}')\n",
    "print(f'Mean Elapsed Time = {elap}')"
   ]
  },
  {
   "cell_type": "code",
   "execution_count": 35,
   "metadata": {},
   "outputs": [],
   "source": [
    "# compare the validated results\n",
    "validation = pd.DataFrame(columns=['scheduling','chunk_size','comparisons','wall_time','elapsed_time'])\n",
    "with open('../outputs/somp1_2.out', 'r') as output:\n",
    "    line=output.readline()\n",
    "    while line != '':\n",
    "        line=output.readline()\n",
    "        if (line.find('scheduling.') >= 0):\n",
    "            words = line.split(' ')\n",
    "            scheduling = words[-2].split(',')[0]\n",
    "            chunk_size = int(words[-2].split(',')[1])\n",
    "            for i in range(0,13):\n",
    "                line=output.readline()\n",
    "            comparisons = int(re.findall('\\d+',line)[0])\n",
    "            for i in range(0,2):\n",
    "                line=output.readline()\n",
    "            wall_time = int(re.findall('\\d+',line)[0])\n",
    "            line=output.readline()\n",
    "            elapsed_time = float(re.findall('\\d+\\.\\d+', line)[0])\n",
    "            validation = validation.append({'scheduling':scheduling,\n",
    "                                            'chunk_size':chunk_size,\n",
    "                                            'comparisons':comparisons,\n",
    "                                            'wall_time':wall_time,\n",
    "                                            'elapsed_time':elapsed_time},\n",
    "                                           ignore_index=True)"
   ]
  },
  {
   "cell_type": "code",
   "execution_count": 46,
   "metadata": {},
   "outputs": [
    {
     "name": "stdout",
     "output_type": "stream",
     "text": [
      "Schedule: static\tchunks:1\t min:1001560\t max:1006005\t avg:1003866.5\t avg T:0.0924011176\n",
      "Schedule: static\tchunks:2\t min:997219\t max:1003679\t avg:1001457.9\t avg T:0.051052324100000004\n",
      "Schedule: static\tchunks:4\t min:1000040\t max:1003338\t avg:1001373.6\t avg T:0.0294773293\n",
      "Schedule: dynamic\tchunks:1\t min:1002005\t max:1002778\t avg:1002433.8\t avg T:0.4200885658\n",
      "Schedule: dynamic\tchunks:2\t min:1002076\t max:1003980\t avg:1003025.7\t avg T:0.1882080778\n",
      "Schedule: dynamic\tchunks:4\t min:1000262\t max:1002892\t avg:1001298.3\t avg T:0.09271266500000001\n",
      "Schedule: guided\tchunks:1\t min:1998869\t max:2007521\t avg:2002637.5\t avg T:0.0124659091\n",
      "Schedule: guided\tchunks:2\t min:1997993\t max:2004427\t avg:2001808.3\t avg T:0.012477143899999998\n",
      "Schedule: guided\tchunks:4\t min:1995738\t max:2004427\t avg:2001093.2\t avg T:0.0126176669\n",
      "Schedule: auto\tchunks:1\t min:1999879\t max:2008253\t avg:2004142.3\t avg T:0.012550672799999999\n",
      "Schedule: auto\tchunks:2\t min:1999683\t max:2007543\t avg:2003287.6\t avg T:0.0124827158\n",
      "Schedule: auto\tchunks:4\t min:1999235\t max:2008389\t avg:2003305.4\t avg T:0.0123929019\n"
     ]
    }
   ],
   "source": [
    "#validation.info()\n",
    "#validation.head()\n",
    "for schedule in validation['scheduling'].unique():\n",
    "    for chunk in validation['chunk_size'].unique():\n",
    "        check1 = validation['scheduling'] == schedule\n",
    "        check2 = validation['chunk_size'] == chunk\n",
    "        c_min = validation[check1 & check2]['comparisons'].min()\n",
    "        c_max = validation[check1 & check2]['comparisons'].max()\n",
    "        c_avg = validation[check1 & check2]['comparisons'].mean()\n",
    "        t_avg = validation[check1 & check2]['elapsed_time'].mean()\n",
    "        print(f'Schedule: {schedule}\\tchunks:{chunk}\\t min:{c_min}\\t max:{c_max}\\t avg:{c_avg}\\t avg T:{t_avg}')"
   ]
  },
  {
   "cell_type": "code",
   "execution_count": 16,
   "metadata": {},
   "outputs": [
    {
     "data": {
      "text/plain": [
       "(500000.0, 2500000.0)"
      ]
     },
     "execution_count": 16,
     "metadata": {},
     "output_type": "execute_result"
    },
    {
     "data": {
      "image/png": "[encoded data removed]",
      "text/plain": [
       "<Figure size 576x576 with 1 Axes>"
      ]
     },
     "metadata": {
      "needs_background": "light"
     },
     "output_type": "display_data"
    }
   ],
   "source": [
    "f,ax = plt.subplots(figsize=(8,8))\n",
    "\n",
    "box = sns.boxplot(x=validation['scheduling'],y=validation['comparisons'])\n",
    "plt.ylim(5e+5, 2.5e+6)"
   ]
  },
  {
   "cell_type": "code",
   "execution_count": 67,
   "metadata": {},
   "outputs": [],
   "source": [
    "omp_1 = pd.DataFrame(columns=['threads','comparisons','wall_time','cpu_time'])\n",
    "with open('../outputs/somp_2.out', 'r') as output:\n",
    "    line=output.readline()\n",
    "    program = ''\n",
    "    while line != '':\n",
    "        line=output.readline()\n",
    "        if (line.find('Running Test') >= 0):\n",
    "            thread = line.split(' ')[-2]\n",
    "            for i in range(0,4):\n",
    "                line=output.readline()\n",
    "            comparisons = int(re.findall('\\d+',line)[0])\n",
    "            for i in range(0,2):\n",
    "                line=output.readline()\n",
    "            wall_time = int(re.findall('\\d+',line)[1])\n",
    "            \n",
    "            line=output.readline()\n",
    "            cpu_time = float(re.findall('\\d+\\.\\d+', line)[0])\n",
    "            omp_1 = omp_1.append({'threads':thread,\n",
    "                                  'comparisons':comparisons,\n",
    "                                  'wall_time':wall_time,\n",
    "                                  'cpu_time':cpu_time},\n",
    "                                 ignore_index=True)\n",
    "            "
   ]
  },
  {
   "cell_type": "code",
   "execution_count": 72,
   "metadata": {},
   "outputs": [],
   "source": [
    "omp_1.head()\n",
    "omp_1.to_csv('../outputs/omp_1_test2.csv',index=False)"
   ]
  },
  {
   "cell_type": "code",
   "execution_count": 69,
   "metadata": {},
   "outputs": [],
   "source": [
    "omp_2 = pd.DataFrame(columns=['threads','found_patterns','first_pattern','comparisons','wall_time','cpu_time'])\n",
    "with open('../outputs/somp_2_1.out', 'r') as output:\n",
    "    line=output.readline()\n",
    "    program = ''\n",
    "    while line != '':\n",
    "        line=output.readline()\n",
    "        if (line.find('Running Test') >= 0):\n",
    "            thread = line.split(' ')[-2]\n",
    "            for i in range(0,105):\n",
    "                line=output.readline()\n",
    "            found_patterns = int(re.findall('\\d+',line)[0])\n",
    "            for i in range(0,2):\n",
    "                line=output.readline()\n",
    "            first_pattern = int(re.findall('\\d+',line)[0])\n",
    "            line=output.readline()\n",
    "            comparisons = int(re.findall('\\d+',line)[0])\n",
    "            for i in range(0,2):\n",
    "                line=output.readline()\n",
    "            wall_time = int(re.findall('\\d+',line)[1])\n",
    "            \n",
    "            line=output.readline()\n",
    "            cpu_time = float(re.findall('\\d+\\.\\d+', line)[0])\n",
    "            omp_2 = omp_2.append({'threads':thread,\n",
    "                                  'found_patterns':found_patterns,\n",
    "                                  'first_pattern':first_pattern,\n",
    "                                  'comparisons':comparisons,\n",
    "                                  'wall_time':wall_time,\n",
    "                                  'cpu_time':cpu_time},\n",
    "                                 ignore_index=True)"
   ]
  },
  {
   "cell_type": "code",
   "execution_count": 70,
   "metadata": {},
   "outputs": [
    {
     "data": {
      "text/html": [
       "<div>\n",
       "<style scoped>\n",
       "    .dataframe tbody tr th:only-of-type {\n",
       "        vertical-align: middle;\n",
       "    }\n",
       "\n",
       "    .dataframe tbody tr th {\n",
       "        vertical-align: top;\n",
       "    }\n",
       "\n",
       "    .dataframe thead th {\n",
       "        text-align: right;\n",
       "    }\n",
       "</style>\n",
       "<table border=\"1\" class=\"dataframe\">\n",
       "  <thead>\n",
       "    <tr style=\"text-align: right;\">\n",
       "      <th></th>\n",
       "      <th>threads</th>\n",
       "      <th>found_patterns</th>\n",
       "      <th>first_pattern</th>\n",
       "      <th>comparisons</th>\n",
       "      <th>wall_time</th>\n",
       "      <th>cpu_time</th>\n",
       "    </tr>\n",
       "  </thead>\n",
       "  <tbody>\n",
       "    <tr>\n",
       "      <th>0</th>\n",
       "      <td>1</td>\n",
       "      <td>100</td>\n",
       "      <td>5001001</td>\n",
       "      <td>9949051000</td>\n",
       "      <td>26</td>\n",
       "      <td>26.820068</td>\n",
       "    </tr>\n",
       "    <tr>\n",
       "      <th>1</th>\n",
       "      <td>2</td>\n",
       "      <td>100</td>\n",
       "      <td>5001001</td>\n",
       "      <td>9949051000</td>\n",
       "      <td>13</td>\n",
       "      <td>13.741604</td>\n",
       "    </tr>\n",
       "    <tr>\n",
       "      <th>2</th>\n",
       "      <td>4</td>\n",
       "      <td>100</td>\n",
       "      <td>5001001</td>\n",
       "      <td>9949051000</td>\n",
       "      <td>7</td>\n",
       "      <td>7.522392</td>\n",
       "    </tr>\n",
       "    <tr>\n",
       "      <th>3</th>\n",
       "      <td>8</td>\n",
       "      <td>100</td>\n",
       "      <td>5001001</td>\n",
       "      <td>9949051000</td>\n",
       "      <td>7</td>\n",
       "      <td>7.573625</td>\n",
       "    </tr>\n",
       "    <tr>\n",
       "      <th>4</th>\n",
       "      <td>16</td>\n",
       "      <td>100</td>\n",
       "      <td>5001001</td>\n",
       "      <td>9949051000</td>\n",
       "      <td>7</td>\n",
       "      <td>7.509870</td>\n",
       "    </tr>\n",
       "  </tbody>\n",
       "</table>\n",
       "</div>"
      ],
      "text/plain": [
       "  threads found_patterns first_pattern comparisons wall_time   cpu_time\n",
       "0       1            100       5001001  9949051000        26  26.820068\n",
       "1       2            100       5001001  9949051000        13  13.741604\n",
       "2       4            100       5001001  9949051000         7   7.522392\n",
       "3       8            100       5001001  9949051000         7   7.573625\n",
       "4      16            100       5001001  9949051000         7   7.509870"
      ]
     },
     "execution_count": 70,
     "metadata": {},
     "output_type": "execute_result"
    }
   ],
   "source": [
    "omp_2.head()"
   ]
  },
  {
   "cell_type": "code",
   "execution_count": 73,
   "metadata": {},
   "outputs": [],
   "source": [
    "omp_2.to_csv('../outputs/omp_2_test2.csv',index=False)"
   ]
  },
  {
   "cell_type": "code",
   "execution_count": 79,
   "metadata": {},
   "outputs": [
    {
     "data": {
      "image/png": "[encoded data removed]",
      "text/plain": [
       "<Figure size 576x576 with 1 Axes>"
      ]
     },
     "metadata": {
      "needs_background": "light"
     },
     "output_type": "display_data"
    }
   ],
   "source": [
    "f, ax = plt.subplots(figsize=(8,8))\n",
    "g = sns.barplot(x=['Sequential Search','Modified Parallel Search (4 cores)'],\n",
    "               y = [5001002000/14,9949051000/7])\n",
    "g.set_xlabel('Algorithm')\n",
    "g.set_ylabel('Comparisons per Second')\n",
    "g.set_title('Performance Comparison of Algorithms')\n",
    "plt.savefig('../img/performance_comparison_test2.png')"
   ]
  },
  {
   "cell_type": "code",
   "execution_count": null,
   "metadata": {},
   "outputs": [],
   "source": []
  }
 ],
 "metadata": {
  "kernelspec": {
   "display_name": "Python 3",
   "language": "python",
   "name": "python3"
  },
  "language_info": {
   "codemirror_mode": {
    "name": "ipython",
    "version": 3
   },
   "file_extension": ".py",
   "mimetype": "text/x-python",
   "name": "python",
   "nbconvert_exporter": "python",
   "pygments_lexer": "ipython3",
   "version": "3.8.3"
  }
 },
 "nbformat": 4,
 "nbformat_minor": 4
}
